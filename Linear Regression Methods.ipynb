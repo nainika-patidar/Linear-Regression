{
  "nbformat": 4,
  "nbformat_minor": 0,
  "metadata": {
    "colab": {
      "name": "LR_3 Models.ipynb",
      "provenance": []
    },
    "kernelspec": {
      "name": "python3",
      "display_name": "Python 3"
    },
    "language_info": {
      "name": "python"
    }
  },
  "cells": [
    {
      "cell_type": "markdown",
      "metadata": {
        "id": "cs5Fyq5mMY81"
      },
      "source": [
        "<font color='#43aba2'><h3><b>Implementing Linear Regression model using different methods and testing the RMSE</font>"
      ]
    },
    {
      "cell_type": "code",
      "metadata": {
        "id": "tZroryhJanNE"
      },
      "source": [
        "#importing the required libraries\n",
        "import pandas as pd\n",
        "import numpy as np\n",
        "from sklearn.model_selection import train_test_split\n",
        "from sklearn.linear_model import LinearRegression\n",
        "import seaborn as sns\n",
        "import matplotlib.pyplot as plt"
      ],
      "execution_count": 1,
      "outputs": []
    },
    {
      "cell_type": "code",
      "metadata": {
        "colab": {
          "base_uri": "https://localhost:8080/",
          "height": 206
        },
        "id": "p-Nm--3Gapvn",
        "outputId": "58f3f4fe-7650-4924-f4d1-14c9226788e7"
      },
      "source": [
        "#loading and reading the data\n",
        "df = pd.read_csv(\"/content/sample_data/insurance.csv\")\n",
        "df.head()"
      ],
      "execution_count": 2,
      "outputs": [
        {
          "output_type": "execute_result",
          "data": {
            "text/html": [
              "<div>\n",
              "<style scoped>\n",
              "    .dataframe tbody tr th:only-of-type {\n",
              "        vertical-align: middle;\n",
              "    }\n",
              "\n",
              "    .dataframe tbody tr th {\n",
              "        vertical-align: top;\n",
              "    }\n",
              "\n",
              "    .dataframe thead th {\n",
              "        text-align: right;\n",
              "    }\n",
              "</style>\n",
              "<table border=\"1\" class=\"dataframe\">\n",
              "  <thead>\n",
              "    <tr style=\"text-align: right;\">\n",
              "      <th></th>\n",
              "      <th>age</th>\n",
              "      <th>gender</th>\n",
              "      <th>bmi</th>\n",
              "      <th>bloodpressure</th>\n",
              "      <th>diabetic</th>\n",
              "      <th>children</th>\n",
              "      <th>smoker</th>\n",
              "      <th>region</th>\n",
              "      <th>claim</th>\n",
              "    </tr>\n",
              "  </thead>\n",
              "  <tbody>\n",
              "    <tr>\n",
              "      <th>0</th>\n",
              "      <td>19</td>\n",
              "      <td>female</td>\n",
              "      <td>27.9</td>\n",
              "      <td>107</td>\n",
              "      <td>No</td>\n",
              "      <td>0</td>\n",
              "      <td>Yes</td>\n",
              "      <td>southwest</td>\n",
              "      <td>16884.92</td>\n",
              "    </tr>\n",
              "    <tr>\n",
              "      <th>1</th>\n",
              "      <td>18</td>\n",
              "      <td>male</td>\n",
              "      <td>33.8</td>\n",
              "      <td>133</td>\n",
              "      <td>No</td>\n",
              "      <td>1</td>\n",
              "      <td>No</td>\n",
              "      <td>southeast</td>\n",
              "      <td>1725.55</td>\n",
              "    </tr>\n",
              "    <tr>\n",
              "      <th>2</th>\n",
              "      <td>28</td>\n",
              "      <td>male</td>\n",
              "      <td>33.0</td>\n",
              "      <td>88</td>\n",
              "      <td>Yes</td>\n",
              "      <td>3</td>\n",
              "      <td>No</td>\n",
              "      <td>southeast</td>\n",
              "      <td>4449.46</td>\n",
              "    </tr>\n",
              "    <tr>\n",
              "      <th>3</th>\n",
              "      <td>33</td>\n",
              "      <td>male</td>\n",
              "      <td>22.7</td>\n",
              "      <td>119</td>\n",
              "      <td>Yes</td>\n",
              "      <td>0</td>\n",
              "      <td>No</td>\n",
              "      <td>northwest</td>\n",
              "      <td>21984.47</td>\n",
              "    </tr>\n",
              "    <tr>\n",
              "      <th>4</th>\n",
              "      <td>32</td>\n",
              "      <td>male</td>\n",
              "      <td>28.9</td>\n",
              "      <td>91</td>\n",
              "      <td>No</td>\n",
              "      <td>0</td>\n",
              "      <td>No</td>\n",
              "      <td>northwest</td>\n",
              "      <td>3866.86</td>\n",
              "    </tr>\n",
              "  </tbody>\n",
              "</table>\n",
              "</div>"
            ],
            "text/plain": [
              "   age  gender   bmi  bloodpressure  ... children  smoker     region     claim\n",
              "0   19  female  27.9            107  ...        0     Yes  southwest  16884.92\n",
              "1   18    male  33.8            133  ...        1      No  southeast   1725.55\n",
              "2   28    male  33.0             88  ...        3      No  southeast   4449.46\n",
              "3   33    male  22.7            119  ...        0      No  northwest  21984.47\n",
              "4   32    male  28.9             91  ...        0      No  northwest   3866.86\n",
              "\n",
              "[5 rows x 9 columns]"
            ]
          },
          "metadata": {
            "tags": []
          },
          "execution_count": 2
        }
      ]
    },
    {
      "cell_type": "code",
      "metadata": {
        "colab": {
          "base_uri": "https://localhost:8080/",
          "height": 300
        },
        "id": "horUHt0Xa3Jq",
        "outputId": "b69d6497-4a8a-48f0-8ca3-3c629ef8d73e"
      },
      "source": [
        "#exploring and analysing the data\n",
        "df.shape\n",
        "df.describe()"
      ],
      "execution_count": 3,
      "outputs": [
        {
          "output_type": "execute_result",
          "data": {
            "text/html": [
              "<div>\n",
              "<style scoped>\n",
              "    .dataframe tbody tr th:only-of-type {\n",
              "        vertical-align: middle;\n",
              "    }\n",
              "\n",
              "    .dataframe tbody tr th {\n",
              "        vertical-align: top;\n",
              "    }\n",
              "\n",
              "    .dataframe thead th {\n",
              "        text-align: right;\n",
              "    }\n",
              "</style>\n",
              "<table border=\"1\" class=\"dataframe\">\n",
              "  <thead>\n",
              "    <tr style=\"text-align: right;\">\n",
              "      <th></th>\n",
              "      <th>age</th>\n",
              "      <th>bmi</th>\n",
              "      <th>bloodpressure</th>\n",
              "      <th>children</th>\n",
              "      <th>claim</th>\n",
              "    </tr>\n",
              "  </thead>\n",
              "  <tbody>\n",
              "    <tr>\n",
              "      <th>count</th>\n",
              "      <td>1338.000000</td>\n",
              "      <td>1338.000000</td>\n",
              "      <td>1338.000000</td>\n",
              "      <td>1338.000000</td>\n",
              "      <td>1338.000000</td>\n",
              "    </tr>\n",
              "    <tr>\n",
              "      <th>mean</th>\n",
              "      <td>39.207025</td>\n",
              "      <td>30.665471</td>\n",
              "      <td>109.397608</td>\n",
              "      <td>1.094918</td>\n",
              "      <td>13270.422414</td>\n",
              "    </tr>\n",
              "    <tr>\n",
              "      <th>std</th>\n",
              "      <td>14.049960</td>\n",
              "      <td>6.098382</td>\n",
              "      <td>17.519398</td>\n",
              "      <td>1.205493</td>\n",
              "      <td>12110.011240</td>\n",
              "    </tr>\n",
              "    <tr>\n",
              "      <th>min</th>\n",
              "      <td>18.000000</td>\n",
              "      <td>16.000000</td>\n",
              "      <td>80.000000</td>\n",
              "      <td>0.000000</td>\n",
              "      <td>1121.870000</td>\n",
              "    </tr>\n",
              "    <tr>\n",
              "      <th>25%</th>\n",
              "      <td>27.000000</td>\n",
              "      <td>26.300000</td>\n",
              "      <td>94.000000</td>\n",
              "      <td>0.000000</td>\n",
              "      <td>4740.287500</td>\n",
              "    </tr>\n",
              "    <tr>\n",
              "      <th>50%</th>\n",
              "      <td>39.000000</td>\n",
              "      <td>30.400000</td>\n",
              "      <td>109.000000</td>\n",
              "      <td>1.000000</td>\n",
              "      <td>9382.030000</td>\n",
              "    </tr>\n",
              "    <tr>\n",
              "      <th>75%</th>\n",
              "      <td>51.000000</td>\n",
              "      <td>34.700000</td>\n",
              "      <td>124.000000</td>\n",
              "      <td>2.000000</td>\n",
              "      <td>16639.915000</td>\n",
              "    </tr>\n",
              "    <tr>\n",
              "      <th>max</th>\n",
              "      <td>64.000000</td>\n",
              "      <td>53.100000</td>\n",
              "      <td>140.000000</td>\n",
              "      <td>5.000000</td>\n",
              "      <td>63770.430000</td>\n",
              "    </tr>\n",
              "  </tbody>\n",
              "</table>\n",
              "</div>"
            ],
            "text/plain": [
              "               age          bmi  bloodpressure     children         claim\n",
              "count  1338.000000  1338.000000    1338.000000  1338.000000   1338.000000\n",
              "mean     39.207025    30.665471     109.397608     1.094918  13270.422414\n",
              "std      14.049960     6.098382      17.519398     1.205493  12110.011240\n",
              "min      18.000000    16.000000      80.000000     0.000000   1121.870000\n",
              "25%      27.000000    26.300000      94.000000     0.000000   4740.287500\n",
              "50%      39.000000    30.400000     109.000000     1.000000   9382.030000\n",
              "75%      51.000000    34.700000     124.000000     2.000000  16639.915000\n",
              "max      64.000000    53.100000     140.000000     5.000000  63770.430000"
            ]
          },
          "metadata": {
            "tags": []
          },
          "execution_count": 3
        }
      ]
    },
    {
      "cell_type": "code",
      "metadata": {
        "colab": {
          "base_uri": "https://localhost:8080/",
          "height": 206
        },
        "id": "m2j-TrHfa4mu",
        "outputId": "edb410a7-441e-4a60-a046-9f66e9ad9aad"
      },
      "source": [
        "#correlation study of the data\n",
        "df.corr()"
      ],
      "execution_count": 4,
      "outputs": [
        {
          "output_type": "execute_result",
          "data": {
            "text/html": [
              "<div>\n",
              "<style scoped>\n",
              "    .dataframe tbody tr th:only-of-type {\n",
              "        vertical-align: middle;\n",
              "    }\n",
              "\n",
              "    .dataframe tbody tr th {\n",
              "        vertical-align: top;\n",
              "    }\n",
              "\n",
              "    .dataframe thead th {\n",
              "        text-align: right;\n",
              "    }\n",
              "</style>\n",
              "<table border=\"1\" class=\"dataframe\">\n",
              "  <thead>\n",
              "    <tr style=\"text-align: right;\">\n",
              "      <th></th>\n",
              "      <th>age</th>\n",
              "      <th>bmi</th>\n",
              "      <th>bloodpressure</th>\n",
              "      <th>children</th>\n",
              "      <th>claim</th>\n",
              "    </tr>\n",
              "  </thead>\n",
              "  <tbody>\n",
              "    <tr>\n",
              "      <th>age</th>\n",
              "      <td>1.000000</td>\n",
              "      <td>0.109341</td>\n",
              "      <td>-0.080593</td>\n",
              "      <td>0.042469</td>\n",
              "      <td>0.299008</td>\n",
              "    </tr>\n",
              "    <tr>\n",
              "      <th>bmi</th>\n",
              "      <td>0.109341</td>\n",
              "      <td>1.000000</td>\n",
              "      <td>-0.015544</td>\n",
              "      <td>0.012645</td>\n",
              "      <td>0.198576</td>\n",
              "    </tr>\n",
              "    <tr>\n",
              "      <th>bloodpressure</th>\n",
              "      <td>-0.080593</td>\n",
              "      <td>-0.015544</td>\n",
              "      <td>1.000000</td>\n",
              "      <td>-0.043967</td>\n",
              "      <td>-0.028208</td>\n",
              "    </tr>\n",
              "    <tr>\n",
              "      <th>children</th>\n",
              "      <td>0.042469</td>\n",
              "      <td>0.012645</td>\n",
              "      <td>-0.043967</td>\n",
              "      <td>1.000000</td>\n",
              "      <td>0.067998</td>\n",
              "    </tr>\n",
              "    <tr>\n",
              "      <th>claim</th>\n",
              "      <td>0.299008</td>\n",
              "      <td>0.198576</td>\n",
              "      <td>-0.028208</td>\n",
              "      <td>0.067998</td>\n",
              "      <td>1.000000</td>\n",
              "    </tr>\n",
              "  </tbody>\n",
              "</table>\n",
              "</div>"
            ],
            "text/plain": [
              "                    age       bmi  bloodpressure  children     claim\n",
              "age            1.000000  0.109341      -0.080593  0.042469  0.299008\n",
              "bmi            0.109341  1.000000      -0.015544  0.012645  0.198576\n",
              "bloodpressure -0.080593 -0.015544       1.000000 -0.043967 -0.028208\n",
              "children       0.042469  0.012645      -0.043967  1.000000  0.067998\n",
              "claim          0.299008  0.198576      -0.028208  0.067998  1.000000"
            ]
          },
          "metadata": {
            "tags": []
          },
          "execution_count": 4
        }
      ]
    },
    {
      "cell_type": "markdown",
      "metadata": {
        "id": "bASCooGADR93"
      },
      "source": [
        "\n",
        "\n",
        "---\n",
        "\n"
      ]
    },
    {
      "cell_type": "markdown",
      "metadata": {
        "id": "fs00Ye1SDXxN"
      },
      "source": [
        "<h2><b>n-1 dummy encoding</h2>"
      ]
    },
    {
      "cell_type": "code",
      "metadata": {
        "colab": {
          "base_uri": "https://localhost:8080/",
          "height": 423
        },
        "id": "d2fIFlWaa-VZ",
        "outputId": "30ceeccd-2b5d-4d8c-b05e-01d1c93d6819"
      },
      "source": [
        "#performing n-1 dummy encoding for categorical variable\n",
        "dummies = df[['age', 'bmi','bloodpressure','children','diabetic','smoker','gender','region','claim']]\n",
        "dummies = pd.get_dummies(dummies, drop_first=True)\n",
        "dummies"
      ],
      "execution_count": 6,
      "outputs": [
        {
          "output_type": "execute_result",
          "data": {
            "text/html": [
              "<div>\n",
              "<style scoped>\n",
              "    .dataframe tbody tr th:only-of-type {\n",
              "        vertical-align: middle;\n",
              "    }\n",
              "\n",
              "    .dataframe tbody tr th {\n",
              "        vertical-align: top;\n",
              "    }\n",
              "\n",
              "    .dataframe thead th {\n",
              "        text-align: right;\n",
              "    }\n",
              "</style>\n",
              "<table border=\"1\" class=\"dataframe\">\n",
              "  <thead>\n",
              "    <tr style=\"text-align: right;\">\n",
              "      <th></th>\n",
              "      <th>age</th>\n",
              "      <th>bmi</th>\n",
              "      <th>bloodpressure</th>\n",
              "      <th>children</th>\n",
              "      <th>claim</th>\n",
              "      <th>diabetic_Yes</th>\n",
              "      <th>smoker_Yes</th>\n",
              "      <th>gender_male</th>\n",
              "      <th>region_northwest</th>\n",
              "      <th>region_southeast</th>\n",
              "      <th>region_southwest</th>\n",
              "    </tr>\n",
              "  </thead>\n",
              "  <tbody>\n",
              "    <tr>\n",
              "      <th>0</th>\n",
              "      <td>19</td>\n",
              "      <td>27.9</td>\n",
              "      <td>107</td>\n",
              "      <td>0</td>\n",
              "      <td>16884.92</td>\n",
              "      <td>0</td>\n",
              "      <td>1</td>\n",
              "      <td>0</td>\n",
              "      <td>0</td>\n",
              "      <td>0</td>\n",
              "      <td>1</td>\n",
              "    </tr>\n",
              "    <tr>\n",
              "      <th>1</th>\n",
              "      <td>18</td>\n",
              "      <td>33.8</td>\n",
              "      <td>133</td>\n",
              "      <td>1</td>\n",
              "      <td>1725.55</td>\n",
              "      <td>0</td>\n",
              "      <td>0</td>\n",
              "      <td>1</td>\n",
              "      <td>0</td>\n",
              "      <td>1</td>\n",
              "      <td>0</td>\n",
              "    </tr>\n",
              "    <tr>\n",
              "      <th>2</th>\n",
              "      <td>28</td>\n",
              "      <td>33.0</td>\n",
              "      <td>88</td>\n",
              "      <td>3</td>\n",
              "      <td>4449.46</td>\n",
              "      <td>1</td>\n",
              "      <td>0</td>\n",
              "      <td>1</td>\n",
              "      <td>0</td>\n",
              "      <td>1</td>\n",
              "      <td>0</td>\n",
              "    </tr>\n",
              "    <tr>\n",
              "      <th>3</th>\n",
              "      <td>33</td>\n",
              "      <td>22.7</td>\n",
              "      <td>119</td>\n",
              "      <td>0</td>\n",
              "      <td>21984.47</td>\n",
              "      <td>1</td>\n",
              "      <td>0</td>\n",
              "      <td>1</td>\n",
              "      <td>1</td>\n",
              "      <td>0</td>\n",
              "      <td>0</td>\n",
              "    </tr>\n",
              "    <tr>\n",
              "      <th>4</th>\n",
              "      <td>32</td>\n",
              "      <td>28.9</td>\n",
              "      <td>91</td>\n",
              "      <td>0</td>\n",
              "      <td>3866.86</td>\n",
              "      <td>0</td>\n",
              "      <td>0</td>\n",
              "      <td>1</td>\n",
              "      <td>1</td>\n",
              "      <td>0</td>\n",
              "      <td>0</td>\n",
              "    </tr>\n",
              "    <tr>\n",
              "      <th>...</th>\n",
              "      <td>...</td>\n",
              "      <td>...</td>\n",
              "      <td>...</td>\n",
              "      <td>...</td>\n",
              "      <td>...</td>\n",
              "      <td>...</td>\n",
              "      <td>...</td>\n",
              "      <td>...</td>\n",
              "      <td>...</td>\n",
              "      <td>...</td>\n",
              "      <td>...</td>\n",
              "    </tr>\n",
              "    <tr>\n",
              "      <th>1333</th>\n",
              "      <td>50</td>\n",
              "      <td>31.0</td>\n",
              "      <td>98</td>\n",
              "      <td>3</td>\n",
              "      <td>10600.55</td>\n",
              "      <td>0</td>\n",
              "      <td>0</td>\n",
              "      <td>1</td>\n",
              "      <td>1</td>\n",
              "      <td>0</td>\n",
              "      <td>0</td>\n",
              "    </tr>\n",
              "    <tr>\n",
              "      <th>1334</th>\n",
              "      <td>18</td>\n",
              "      <td>31.9</td>\n",
              "      <td>138</td>\n",
              "      <td>0</td>\n",
              "      <td>2205.98</td>\n",
              "      <td>0</td>\n",
              "      <td>0</td>\n",
              "      <td>0</td>\n",
              "      <td>0</td>\n",
              "      <td>0</td>\n",
              "      <td>0</td>\n",
              "    </tr>\n",
              "    <tr>\n",
              "      <th>1335</th>\n",
              "      <td>18</td>\n",
              "      <td>36.9</td>\n",
              "      <td>114</td>\n",
              "      <td>0</td>\n",
              "      <td>1629.83</td>\n",
              "      <td>0</td>\n",
              "      <td>0</td>\n",
              "      <td>0</td>\n",
              "      <td>0</td>\n",
              "      <td>1</td>\n",
              "      <td>0</td>\n",
              "    </tr>\n",
              "    <tr>\n",
              "      <th>1336</th>\n",
              "      <td>21</td>\n",
              "      <td>25.8</td>\n",
              "      <td>121</td>\n",
              "      <td>0</td>\n",
              "      <td>2007.95</td>\n",
              "      <td>1</td>\n",
              "      <td>0</td>\n",
              "      <td>0</td>\n",
              "      <td>0</td>\n",
              "      <td>0</td>\n",
              "      <td>1</td>\n",
              "    </tr>\n",
              "    <tr>\n",
              "      <th>1337</th>\n",
              "      <td>61</td>\n",
              "      <td>29.1</td>\n",
              "      <td>139</td>\n",
              "      <td>0</td>\n",
              "      <td>29141.36</td>\n",
              "      <td>0</td>\n",
              "      <td>1</td>\n",
              "      <td>0</td>\n",
              "      <td>1</td>\n",
              "      <td>0</td>\n",
              "      <td>0</td>\n",
              "    </tr>\n",
              "  </tbody>\n",
              "</table>\n",
              "<p>1338 rows × 11 columns</p>\n",
              "</div>"
            ],
            "text/plain": [
              "      age   bmi  ...  region_southeast  region_southwest\n",
              "0      19  27.9  ...                 0                 1\n",
              "1      18  33.8  ...                 1                 0\n",
              "2      28  33.0  ...                 1                 0\n",
              "3      33  22.7  ...                 0                 0\n",
              "4      32  28.9  ...                 0                 0\n",
              "...   ...   ...  ...               ...               ...\n",
              "1333   50  31.0  ...                 0                 0\n",
              "1334   18  31.9  ...                 0                 0\n",
              "1335   18  36.9  ...                 1                 0\n",
              "1336   21  25.8  ...                 0                 1\n",
              "1337   61  29.1  ...                 0                 0\n",
              "\n",
              "[1338 rows x 11 columns]"
            ]
          },
          "metadata": {
            "tags": []
          },
          "execution_count": 6
        }
      ]
    },
    {
      "cell_type": "markdown",
      "metadata": {
        "id": "ZerBx46vYAdg"
      },
      "source": [
        "If we have a categorical variable that has n different categories then dummy encoding will convert it into n-1 variables"
      ]
    },
    {
      "cell_type": "markdown",
      "metadata": {
        "id": "OKT9PUhFDOTZ"
      },
      "source": [
        "\n",
        "\n",
        "---\n",
        "\n"
      ]
    },
    {
      "cell_type": "markdown",
      "metadata": {
        "id": "DvauVQdICQcp"
      },
      "source": [
        "<h2><b>Scaling or Standardization</h2>"
      ]
    },
    {
      "cell_type": "markdown",
      "metadata": {
        "id": "nxsKtaCOQIz_"
      },
      "source": [
        "**Scaling**<br> The process of increasing or decreasing the magnitude according to a fixed ratio. i.e; changing the size but not the shape <br>\n",
        "**StandardScaler** standardizes a feature by subtracting the mean and then scaling to unit variance <br>\n",
        "StandardScaler results in a distribution with a standard deviation equal to 1. <br>\n",
        "***NEED***: It helps improve the performance of the model and reducing the values/models from varying widely .\n"
      ]
    },
    {
      "cell_type": "code",
      "metadata": {
        "colab": {
          "base_uri": "https://localhost:8080/"
        },
        "id": "FLyy_HrZe5yA",
        "outputId": "85bfbac2-6ed7-4c12-afd2-3259dec49053"
      },
      "source": [
        "#standadize the numerical variables\n",
        "from sklearn.preprocessing import StandardScaler\n",
        "\n",
        "#listing the numeric and categorical data\n",
        "numeric = dummies[['age','bmi','bloodpressure','children','claim']]\n",
        "categorical = dummies[['diabetic_Yes', 'smoker_Yes' ,\t'gender_male' ,\t'region_northwest', 'region_southeast',\t'region_southwest']]\n",
        "\n",
        "#initialize standard scaler instance\n",
        "scaler = StandardScaler()\n",
        "\n",
        "#fit and transform the scaler on numerical column\n",
        "scaled = scaler.fit_transform(numeric)\n",
        "scaled"
      ],
      "execution_count": 11,
      "outputs": [
        {
          "output_type": "execute_result",
          "data": {
            "text/plain": [
              "array([[-1.43876426, -0.4536457 , -0.13690567, -0.90861367,  0.29858346],\n",
              "       [-1.50996545,  0.51418574,  1.34771851, -0.07876719, -0.95368938],\n",
              "       [-0.79795355,  0.38295436, -1.22182333,  1.58092576, -0.72867485],\n",
              "       ...,\n",
              "       [-1.50996545,  1.02270734,  0.26280084, -0.90861367, -0.96159654],\n",
              "       [-1.29636188, -0.79812808,  0.66250735, -0.90861367, -0.93036111],\n",
              "       [ 1.55168573, -0.25679863,  1.69032408, -0.90861367,  1.31105343]])"
            ]
          },
          "metadata": {
            "tags": []
          },
          "execution_count": 11
        }
      ]
    },
    {
      "cell_type": "code",
      "metadata": {
        "id": "zoqd2BvVCs5v",
        "colab": {
          "base_uri": "https://localhost:8080/",
          "height": 423
        },
        "outputId": "f6c8bd98-2614-4725-bf8a-8acea5fe3ebd"
      },
      "source": [
        "#converting array into dataframe\n",
        "scaled_df = pd.DataFrame(scaled)\n",
        "scaled_df"
      ],
      "execution_count": 12,
      "outputs": [
        {
          "output_type": "execute_result",
          "data": {
            "text/html": [
              "<div>\n",
              "<style scoped>\n",
              "    .dataframe tbody tr th:only-of-type {\n",
              "        vertical-align: middle;\n",
              "    }\n",
              "\n",
              "    .dataframe tbody tr th {\n",
              "        vertical-align: top;\n",
              "    }\n",
              "\n",
              "    .dataframe thead th {\n",
              "        text-align: right;\n",
              "    }\n",
              "</style>\n",
              "<table border=\"1\" class=\"dataframe\">\n",
              "  <thead>\n",
              "    <tr style=\"text-align: right;\">\n",
              "      <th></th>\n",
              "      <th>0</th>\n",
              "      <th>1</th>\n",
              "      <th>2</th>\n",
              "      <th>3</th>\n",
              "      <th>4</th>\n",
              "    </tr>\n",
              "  </thead>\n",
              "  <tbody>\n",
              "    <tr>\n",
              "      <th>0</th>\n",
              "      <td>-1.438764</td>\n",
              "      <td>-0.453646</td>\n",
              "      <td>-0.136906</td>\n",
              "      <td>-0.908614</td>\n",
              "      <td>0.298583</td>\n",
              "    </tr>\n",
              "    <tr>\n",
              "      <th>1</th>\n",
              "      <td>-1.509965</td>\n",
              "      <td>0.514186</td>\n",
              "      <td>1.347719</td>\n",
              "      <td>-0.078767</td>\n",
              "      <td>-0.953689</td>\n",
              "    </tr>\n",
              "    <tr>\n",
              "      <th>2</th>\n",
              "      <td>-0.797954</td>\n",
              "      <td>0.382954</td>\n",
              "      <td>-1.221823</td>\n",
              "      <td>1.580926</td>\n",
              "      <td>-0.728675</td>\n",
              "    </tr>\n",
              "    <tr>\n",
              "      <th>3</th>\n",
              "      <td>-0.441948</td>\n",
              "      <td>-1.306650</td>\n",
              "      <td>0.548305</td>\n",
              "      <td>-0.908614</td>\n",
              "      <td>0.719843</td>\n",
              "    </tr>\n",
              "    <tr>\n",
              "      <th>4</th>\n",
              "      <td>-0.513149</td>\n",
              "      <td>-0.289606</td>\n",
              "      <td>-1.050521</td>\n",
              "      <td>-0.908614</td>\n",
              "      <td>-0.776802</td>\n",
              "    </tr>\n",
              "    <tr>\n",
              "      <th>...</th>\n",
              "      <td>...</td>\n",
              "      <td>...</td>\n",
              "      <td>...</td>\n",
              "      <td>...</td>\n",
              "      <td>...</td>\n",
              "    </tr>\n",
              "    <tr>\n",
              "      <th>1333</th>\n",
              "      <td>0.768473</td>\n",
              "      <td>0.054876</td>\n",
              "      <td>-0.650814</td>\n",
              "      <td>1.580926</td>\n",
              "      <td>-0.220551</td>\n",
              "    </tr>\n",
              "    <tr>\n",
              "      <th>1334</th>\n",
              "      <td>-1.509965</td>\n",
              "      <td>0.202511</td>\n",
              "      <td>1.633223</td>\n",
              "      <td>-0.908614</td>\n",
              "      <td>-0.914002</td>\n",
              "    </tr>\n",
              "    <tr>\n",
              "      <th>1335</th>\n",
              "      <td>-1.509965</td>\n",
              "      <td>1.022707</td>\n",
              "      <td>0.262801</td>\n",
              "      <td>-0.908614</td>\n",
              "      <td>-0.961597</td>\n",
              "    </tr>\n",
              "    <tr>\n",
              "      <th>1336</th>\n",
              "      <td>-1.296362</td>\n",
              "      <td>-0.798128</td>\n",
              "      <td>0.662507</td>\n",
              "      <td>-0.908614</td>\n",
              "      <td>-0.930361</td>\n",
              "    </tr>\n",
              "    <tr>\n",
              "      <th>1337</th>\n",
              "      <td>1.551686</td>\n",
              "      <td>-0.256799</td>\n",
              "      <td>1.690324</td>\n",
              "      <td>-0.908614</td>\n",
              "      <td>1.311053</td>\n",
              "    </tr>\n",
              "  </tbody>\n",
              "</table>\n",
              "<p>1338 rows × 5 columns</p>\n",
              "</div>"
            ],
            "text/plain": [
              "             0         1         2         3         4\n",
              "0    -1.438764 -0.453646 -0.136906 -0.908614  0.298583\n",
              "1    -1.509965  0.514186  1.347719 -0.078767 -0.953689\n",
              "2    -0.797954  0.382954 -1.221823  1.580926 -0.728675\n",
              "3    -0.441948 -1.306650  0.548305 -0.908614  0.719843\n",
              "4    -0.513149 -0.289606 -1.050521 -0.908614 -0.776802\n",
              "...        ...       ...       ...       ...       ...\n",
              "1333  0.768473  0.054876 -0.650814  1.580926 -0.220551\n",
              "1334 -1.509965  0.202511  1.633223 -0.908614 -0.914002\n",
              "1335 -1.509965  1.022707  0.262801 -0.908614 -0.961597\n",
              "1336 -1.296362 -0.798128  0.662507 -0.908614 -0.930361\n",
              "1337  1.551686 -0.256799  1.690324 -0.908614  1.311053\n",
              "\n",
              "[1338 rows x 5 columns]"
            ]
          },
          "metadata": {
            "tags": []
          },
          "execution_count": 12
        }
      ]
    },
    {
      "cell_type": "code",
      "metadata": {
        "id": "ox4L4VKTCx6r",
        "colab": {
          "base_uri": "https://localhost:8080/",
          "height": 423
        },
        "outputId": "015f94bf-1393-447b-b06f-7188b6354c94"
      },
      "source": [
        "#renaming the dataframe columns\n",
        "scaled_df = scaled_df.rename({0:'age', 1:'bmi', 2:'bloodpressure',3:'children', 4:'claim'}, axis = 1)\n",
        "scaled_df"
      ],
      "execution_count": 13,
      "outputs": [
        {
          "output_type": "execute_result",
          "data": {
            "text/html": [
              "<div>\n",
              "<style scoped>\n",
              "    .dataframe tbody tr th:only-of-type {\n",
              "        vertical-align: middle;\n",
              "    }\n",
              "\n",
              "    .dataframe tbody tr th {\n",
              "        vertical-align: top;\n",
              "    }\n",
              "\n",
              "    .dataframe thead th {\n",
              "        text-align: right;\n",
              "    }\n",
              "</style>\n",
              "<table border=\"1\" class=\"dataframe\">\n",
              "  <thead>\n",
              "    <tr style=\"text-align: right;\">\n",
              "      <th></th>\n",
              "      <th>age</th>\n",
              "      <th>bmi</th>\n",
              "      <th>bloodpressure</th>\n",
              "      <th>children</th>\n",
              "      <th>claim</th>\n",
              "    </tr>\n",
              "  </thead>\n",
              "  <tbody>\n",
              "    <tr>\n",
              "      <th>0</th>\n",
              "      <td>-1.438764</td>\n",
              "      <td>-0.453646</td>\n",
              "      <td>-0.136906</td>\n",
              "      <td>-0.908614</td>\n",
              "      <td>0.298583</td>\n",
              "    </tr>\n",
              "    <tr>\n",
              "      <th>1</th>\n",
              "      <td>-1.509965</td>\n",
              "      <td>0.514186</td>\n",
              "      <td>1.347719</td>\n",
              "      <td>-0.078767</td>\n",
              "      <td>-0.953689</td>\n",
              "    </tr>\n",
              "    <tr>\n",
              "      <th>2</th>\n",
              "      <td>-0.797954</td>\n",
              "      <td>0.382954</td>\n",
              "      <td>-1.221823</td>\n",
              "      <td>1.580926</td>\n",
              "      <td>-0.728675</td>\n",
              "    </tr>\n",
              "    <tr>\n",
              "      <th>3</th>\n",
              "      <td>-0.441948</td>\n",
              "      <td>-1.306650</td>\n",
              "      <td>0.548305</td>\n",
              "      <td>-0.908614</td>\n",
              "      <td>0.719843</td>\n",
              "    </tr>\n",
              "    <tr>\n",
              "      <th>4</th>\n",
              "      <td>-0.513149</td>\n",
              "      <td>-0.289606</td>\n",
              "      <td>-1.050521</td>\n",
              "      <td>-0.908614</td>\n",
              "      <td>-0.776802</td>\n",
              "    </tr>\n",
              "    <tr>\n",
              "      <th>...</th>\n",
              "      <td>...</td>\n",
              "      <td>...</td>\n",
              "      <td>...</td>\n",
              "      <td>...</td>\n",
              "      <td>...</td>\n",
              "    </tr>\n",
              "    <tr>\n",
              "      <th>1333</th>\n",
              "      <td>0.768473</td>\n",
              "      <td>0.054876</td>\n",
              "      <td>-0.650814</td>\n",
              "      <td>1.580926</td>\n",
              "      <td>-0.220551</td>\n",
              "    </tr>\n",
              "    <tr>\n",
              "      <th>1334</th>\n",
              "      <td>-1.509965</td>\n",
              "      <td>0.202511</td>\n",
              "      <td>1.633223</td>\n",
              "      <td>-0.908614</td>\n",
              "      <td>-0.914002</td>\n",
              "    </tr>\n",
              "    <tr>\n",
              "      <th>1335</th>\n",
              "      <td>-1.509965</td>\n",
              "      <td>1.022707</td>\n",
              "      <td>0.262801</td>\n",
              "      <td>-0.908614</td>\n",
              "      <td>-0.961597</td>\n",
              "    </tr>\n",
              "    <tr>\n",
              "      <th>1336</th>\n",
              "      <td>-1.296362</td>\n",
              "      <td>-0.798128</td>\n",
              "      <td>0.662507</td>\n",
              "      <td>-0.908614</td>\n",
              "      <td>-0.930361</td>\n",
              "    </tr>\n",
              "    <tr>\n",
              "      <th>1337</th>\n",
              "      <td>1.551686</td>\n",
              "      <td>-0.256799</td>\n",
              "      <td>1.690324</td>\n",
              "      <td>-0.908614</td>\n",
              "      <td>1.311053</td>\n",
              "    </tr>\n",
              "  </tbody>\n",
              "</table>\n",
              "<p>1338 rows × 5 columns</p>\n",
              "</div>"
            ],
            "text/plain": [
              "           age       bmi  bloodpressure  children     claim\n",
              "0    -1.438764 -0.453646      -0.136906 -0.908614  0.298583\n",
              "1    -1.509965  0.514186       1.347719 -0.078767 -0.953689\n",
              "2    -0.797954  0.382954      -1.221823  1.580926 -0.728675\n",
              "3    -0.441948 -1.306650       0.548305 -0.908614  0.719843\n",
              "4    -0.513149 -0.289606      -1.050521 -0.908614 -0.776802\n",
              "...        ...       ...            ...       ...       ...\n",
              "1333  0.768473  0.054876      -0.650814  1.580926 -0.220551\n",
              "1334 -1.509965  0.202511       1.633223 -0.908614 -0.914002\n",
              "1335 -1.509965  1.022707       0.262801 -0.908614 -0.961597\n",
              "1336 -1.296362 -0.798128       0.662507 -0.908614 -0.930361\n",
              "1337  1.551686 -0.256799       1.690324 -0.908614  1.311053\n",
              "\n",
              "[1338 rows x 5 columns]"
            ]
          },
          "metadata": {
            "tags": []
          },
          "execution_count": 13
        }
      ]
    },
    {
      "cell_type": "code",
      "metadata": {
        "id": "aeO7xYc0C1X0",
        "colab": {
          "base_uri": "https://localhost:8080/",
          "height": 443
        },
        "outputId": "48213641-0b0c-42e6-c231-3b5c29449198"
      },
      "source": [
        "#build a standard dataframe \n",
        "X_std = pd.merge(scaled_df, categorical, left_index=True, right_index=True)\n",
        "X_std"
      ],
      "execution_count": 15,
      "outputs": [
        {
          "output_type": "execute_result",
          "data": {
            "text/html": [
              "<div>\n",
              "<style scoped>\n",
              "    .dataframe tbody tr th:only-of-type {\n",
              "        vertical-align: middle;\n",
              "    }\n",
              "\n",
              "    .dataframe tbody tr th {\n",
              "        vertical-align: top;\n",
              "    }\n",
              "\n",
              "    .dataframe thead th {\n",
              "        text-align: right;\n",
              "    }\n",
              "</style>\n",
              "<table border=\"1\" class=\"dataframe\">\n",
              "  <thead>\n",
              "    <tr style=\"text-align: right;\">\n",
              "      <th></th>\n",
              "      <th>age</th>\n",
              "      <th>bmi</th>\n",
              "      <th>bloodpressure</th>\n",
              "      <th>children</th>\n",
              "      <th>claim</th>\n",
              "      <th>diabetic_Yes</th>\n",
              "      <th>smoker_Yes</th>\n",
              "      <th>gender_male</th>\n",
              "      <th>region_northwest</th>\n",
              "      <th>region_southeast</th>\n",
              "      <th>region_southwest</th>\n",
              "    </tr>\n",
              "  </thead>\n",
              "  <tbody>\n",
              "    <tr>\n",
              "      <th>0</th>\n",
              "      <td>-1.438764</td>\n",
              "      <td>-0.453646</td>\n",
              "      <td>-0.136906</td>\n",
              "      <td>-0.908614</td>\n",
              "      <td>0.298583</td>\n",
              "      <td>0</td>\n",
              "      <td>1</td>\n",
              "      <td>0</td>\n",
              "      <td>0</td>\n",
              "      <td>0</td>\n",
              "      <td>1</td>\n",
              "    </tr>\n",
              "    <tr>\n",
              "      <th>1</th>\n",
              "      <td>-1.509965</td>\n",
              "      <td>0.514186</td>\n",
              "      <td>1.347719</td>\n",
              "      <td>-0.078767</td>\n",
              "      <td>-0.953689</td>\n",
              "      <td>0</td>\n",
              "      <td>0</td>\n",
              "      <td>1</td>\n",
              "      <td>0</td>\n",
              "      <td>1</td>\n",
              "      <td>0</td>\n",
              "    </tr>\n",
              "    <tr>\n",
              "      <th>2</th>\n",
              "      <td>-0.797954</td>\n",
              "      <td>0.382954</td>\n",
              "      <td>-1.221823</td>\n",
              "      <td>1.580926</td>\n",
              "      <td>-0.728675</td>\n",
              "      <td>1</td>\n",
              "      <td>0</td>\n",
              "      <td>1</td>\n",
              "      <td>0</td>\n",
              "      <td>1</td>\n",
              "      <td>0</td>\n",
              "    </tr>\n",
              "    <tr>\n",
              "      <th>3</th>\n",
              "      <td>-0.441948</td>\n",
              "      <td>-1.306650</td>\n",
              "      <td>0.548305</td>\n",
              "      <td>-0.908614</td>\n",
              "      <td>0.719843</td>\n",
              "      <td>1</td>\n",
              "      <td>0</td>\n",
              "      <td>1</td>\n",
              "      <td>1</td>\n",
              "      <td>0</td>\n",
              "      <td>0</td>\n",
              "    </tr>\n",
              "    <tr>\n",
              "      <th>4</th>\n",
              "      <td>-0.513149</td>\n",
              "      <td>-0.289606</td>\n",
              "      <td>-1.050521</td>\n",
              "      <td>-0.908614</td>\n",
              "      <td>-0.776802</td>\n",
              "      <td>0</td>\n",
              "      <td>0</td>\n",
              "      <td>1</td>\n",
              "      <td>1</td>\n",
              "      <td>0</td>\n",
              "      <td>0</td>\n",
              "    </tr>\n",
              "    <tr>\n",
              "      <th>...</th>\n",
              "      <td>...</td>\n",
              "      <td>...</td>\n",
              "      <td>...</td>\n",
              "      <td>...</td>\n",
              "      <td>...</td>\n",
              "      <td>...</td>\n",
              "      <td>...</td>\n",
              "      <td>...</td>\n",
              "      <td>...</td>\n",
              "      <td>...</td>\n",
              "      <td>...</td>\n",
              "    </tr>\n",
              "    <tr>\n",
              "      <th>1333</th>\n",
              "      <td>0.768473</td>\n",
              "      <td>0.054876</td>\n",
              "      <td>-0.650814</td>\n",
              "      <td>1.580926</td>\n",
              "      <td>-0.220551</td>\n",
              "      <td>0</td>\n",
              "      <td>0</td>\n",
              "      <td>1</td>\n",
              "      <td>1</td>\n",
              "      <td>0</td>\n",
              "      <td>0</td>\n",
              "    </tr>\n",
              "    <tr>\n",
              "      <th>1334</th>\n",
              "      <td>-1.509965</td>\n",
              "      <td>0.202511</td>\n",
              "      <td>1.633223</td>\n",
              "      <td>-0.908614</td>\n",
              "      <td>-0.914002</td>\n",
              "      <td>0</td>\n",
              "      <td>0</td>\n",
              "      <td>0</td>\n",
              "      <td>0</td>\n",
              "      <td>0</td>\n",
              "      <td>0</td>\n",
              "    </tr>\n",
              "    <tr>\n",
              "      <th>1335</th>\n",
              "      <td>-1.509965</td>\n",
              "      <td>1.022707</td>\n",
              "      <td>0.262801</td>\n",
              "      <td>-0.908614</td>\n",
              "      <td>-0.961597</td>\n",
              "      <td>0</td>\n",
              "      <td>0</td>\n",
              "      <td>0</td>\n",
              "      <td>0</td>\n",
              "      <td>1</td>\n",
              "      <td>0</td>\n",
              "    </tr>\n",
              "    <tr>\n",
              "      <th>1336</th>\n",
              "      <td>-1.296362</td>\n",
              "      <td>-0.798128</td>\n",
              "      <td>0.662507</td>\n",
              "      <td>-0.908614</td>\n",
              "      <td>-0.930361</td>\n",
              "      <td>1</td>\n",
              "      <td>0</td>\n",
              "      <td>0</td>\n",
              "      <td>0</td>\n",
              "      <td>0</td>\n",
              "      <td>1</td>\n",
              "    </tr>\n",
              "    <tr>\n",
              "      <th>1337</th>\n",
              "      <td>1.551686</td>\n",
              "      <td>-0.256799</td>\n",
              "      <td>1.690324</td>\n",
              "      <td>-0.908614</td>\n",
              "      <td>1.311053</td>\n",
              "      <td>0</td>\n",
              "      <td>1</td>\n",
              "      <td>0</td>\n",
              "      <td>1</td>\n",
              "      <td>0</td>\n",
              "      <td>0</td>\n",
              "    </tr>\n",
              "  </tbody>\n",
              "</table>\n",
              "<p>1338 rows × 11 columns</p>\n",
              "</div>"
            ],
            "text/plain": [
              "           age       bmi  ...  region_southeast  region_southwest\n",
              "0    -1.438764 -0.453646  ...                 0                 1\n",
              "1    -1.509965  0.514186  ...                 1                 0\n",
              "2    -0.797954  0.382954  ...                 1                 0\n",
              "3    -0.441948 -1.306650  ...                 0                 0\n",
              "4    -0.513149 -0.289606  ...                 0                 0\n",
              "...        ...       ...  ...               ...               ...\n",
              "1333  0.768473  0.054876  ...                 0                 0\n",
              "1334 -1.509965  0.202511  ...                 0                 0\n",
              "1335 -1.509965  1.022707  ...                 1                 0\n",
              "1336 -1.296362 -0.798128  ...                 0                 1\n",
              "1337  1.551686 -0.256799  ...                 0                 0\n",
              "\n",
              "[1338 rows x 11 columns]"
            ]
          },
          "metadata": {
            "tags": []
          },
          "execution_count": 15
        }
      ]
    },
    {
      "cell_type": "code",
      "metadata": {
        "id": "etSUPDGXC7BW"
      },
      "source": [
        "#separating the Feature and Label\n",
        "X = X_std.drop('claim', axis = True)\n",
        "y = X_std.loc[:,'claim']"
      ],
      "execution_count": 16,
      "outputs": []
    },
    {
      "cell_type": "code",
      "metadata": {
        "id": "qn6zyQsSC-lN"
      },
      "source": [
        "#splitting the data into train and test\n",
        "X_train, X_test, y_train, y_test = train_test_split(X , y, test_size = 0.2, random_state = 0)"
      ],
      "execution_count": 18,
      "outputs": []
    },
    {
      "cell_type": "markdown",
      "metadata": {
        "id": "fJg-WSIlEnqE"
      },
      "source": [
        "\n",
        "\n",
        "---\n",
        "\n"
      ]
    },
    {
      "cell_type": "markdown",
      "metadata": {
        "id": "BNvsxpYyQ4zB"
      },
      "source": [
        "<h2><b>Model - 1</h2>"
      ]
    },
    {
      "cell_type": "markdown",
      "metadata": {
        "id": "cDn2v34LHkDn"
      },
      "source": [
        "**statsmodel.OLS** -  <br>statsmodels module is used to implement *Ordinary Least Squares(OLS)* method of linear regression. <br>\n",
        "The class estimates a multi-variate regression model and provides a variety of fit-statistics."
      ]
    },
    {
      "cell_type": "code",
      "metadata": {
        "id": "RzjKPWZ0z0hU",
        "colab": {
          "base_uri": "https://localhost:8080/"
        },
        "outputId": "e0846221-69b2-43ff-dc96-bc0b052c47b5"
      },
      "source": [
        "#using statsmodels.OLS - model 1\n",
        "import statsmodels.api as sm\n",
        "X_train_Sm= sm.add_constant(X_train)\n",
        "model1 = sm.OLS(y_train,X_train_Sm).fit()\n",
        "print(model1.summary())"
      ],
      "execution_count": 19,
      "outputs": [
        {
          "output_type": "stream",
          "text": [
            "/usr/local/lib/python3.7/dist-packages/statsmodels/tools/_testing.py:19: FutureWarning: pandas.util.testing is deprecated. Use the functions in the public API at pandas.testing instead.\n",
            "  import pandas.util.testing as tm\n"
          ],
          "name": "stderr"
        },
        {
          "output_type": "stream",
          "text": [
            "                            OLS Regression Results                            \n",
            "==============================================================================\n",
            "Dep. Variable:                  claim   R-squared:                       0.737\n",
            "Model:                            OLS   Adj. R-squared:                  0.735\n",
            "Method:                 Least Squares   F-statistic:                     297.3\n",
            "Date:                Sun, 20 Jun 2021   Prob (F-statistic):          3.76e-299\n",
            "Time:                        16:53:41   Log-Likelihood:                -791.33\n",
            "No. Observations:                1070   AIC:                             1605.\n",
            "Df Residuals:                    1059   BIC:                             1659.\n",
            "Df Model:                          10                                         \n",
            "Covariance Type:            nonrobust                                         \n",
            "====================================================================================\n",
            "                       coef    std err          t      P>|t|      [0.025      0.975]\n",
            "------------------------------------------------------------------------------------\n",
            "const               -0.3452      0.040     -8.645      0.000      -0.424      -0.267\n",
            "age                  0.2946      0.016     18.706      0.000       0.264       0.325\n",
            "bmi                  0.1689      0.016     10.399      0.000       0.137       0.201\n",
            "bloodpressure        0.0053      0.016      0.339      0.735      -0.025       0.036\n",
            "children             0.0437      0.016      2.796      0.005       0.013       0.074\n",
            "diabetic_Yes        -0.0324      0.031     -1.037      0.300      -0.094       0.029\n",
            "smoker_Yes           1.9507      0.039     50.150      0.000       1.874       2.027\n",
            "gender_male         -0.0012      0.031     -0.038      0.970      -0.063       0.060\n",
            "region_northwest    -0.0226      0.046     -0.496      0.620      -0.112       0.067\n",
            "region_southeast    -0.0745      0.045     -1.639      0.102      -0.164       0.015\n",
            "region_southwest    -0.0639      0.045     -1.421      0.155      -0.152       0.024\n",
            "==============================================================================\n",
            "Omnibus:                      253.490   Durbin-Watson:                   1.991\n",
            "Prob(Omnibus):                  0.000   Jarque-Bera (JB):              604.557\n",
            "Skew:                           1.268   Prob(JB):                    5.27e-132\n",
            "Kurtosis:                       5.671   Cond. No.                         6.22\n",
            "==============================================================================\n",
            "\n",
            "Warnings:\n",
            "[1] Standard Errors assume that the covariance matrix of the errors is correctly specified.\n"
          ],
          "name": "stdout"
        }
      ]
    },
    {
      "cell_type": "code",
      "metadata": {
        "id": "2Ba9UwVARA9Z",
        "colab": {
          "base_uri": "https://localhost:8080/"
        },
        "outputId": "8bb9ad51-5fa2-4d83-aeb2-76e82bcabf08"
      },
      "source": [
        "#pridicting for model 1\n",
        "y_pred_1 = model1.predict(X_train_Sm)\n",
        "y_pred_1\n",
        "\n",
        "#evaluating the performance of model 1\n",
        "from sklearn.metrics import mean_squared_error\n",
        "rms1 = mean_squared_error(y_train, y_pred_1)\n",
        "rms1"
      ],
      "execution_count": 20,
      "outputs": [
        {
          "output_type": "execute_result",
          "data": {
            "text/plain": [
              "0.2569784131202851"
            ]
          },
          "metadata": {
            "tags": []
          },
          "execution_count": 20
        }
      ]
    },
    {
      "cell_type": "markdown",
      "metadata": {
        "id": "Q94sRAjHHIJN"
      },
      "source": [
        "\n",
        "\n",
        "---\n",
        "\n"
      ]
    },
    {
      "cell_type": "markdown",
      "metadata": {
        "id": "AHO2a1ROE2JK"
      },
      "source": [
        "<h2><b>Model - 2</h2>"
      ]
    },
    {
      "cell_type": "markdown",
      "metadata": {
        "id": "3j_MX8i0IrHY"
      },
      "source": [
        "**Linear Regression** - <br>\n",
        "*LinearRegression()* fits a linear model to minimize the residual sum of squares between the observed targets in the dataset, and the targets predicted by the linear approximation."
      ]
    },
    {
      "cell_type": "code",
      "metadata": {
        "id": "b3HUEk3_1i8A",
        "colab": {
          "base_uri": "https://localhost:8080/"
        },
        "outputId": "bbf4ac30-3157-4d4f-c34f-0d3ed6be2b14"
      },
      "source": [
        "#using sklearn.linear_model(LinearRegression) - model - 2\n",
        "from sklearn.linear_model import LinearRegression\n",
        "model2 = LinearRegression().fit(X_train, y_train)\n",
        "model2.score(X_train, y_train)"
      ],
      "execution_count": 21,
      "outputs": [
        {
          "output_type": "execute_result",
          "data": {
            "text/plain": [
              "0.7373276222331174"
            ]
          },
          "metadata": {
            "tags": []
          },
          "execution_count": 21
        }
      ]
    },
    {
      "cell_type": "code",
      "metadata": {
        "id": "8lBkqM3aRmz4",
        "colab": {
          "base_uri": "https://localhost:8080/"
        },
        "outputId": "6b83dde6-af67-4f60-8cb1-d045ba400aa9"
      },
      "source": [
        "#prediction for model 2\n",
        "y_pred_2 = model2.predict(X_test)\n",
        "y_pred_2\n",
        "\n",
        "#evaluating the perormance for model 2\n",
        "from sklearn.metrics import mean_squared_error\n",
        "rms2 = mean_squared_error(y_test, y_pred_2)\n",
        "rms2"
      ],
      "execution_count": 22,
      "outputs": [
        {
          "output_type": "execute_result",
          "data": {
            "text/plain": [
              "0.21667094530326148"
            ]
          },
          "metadata": {
            "tags": []
          },
          "execution_count": 22
        }
      ]
    },
    {
      "cell_type": "markdown",
      "metadata": {
        "id": "keqyjT88HKu2"
      },
      "source": [
        "\n",
        "\n",
        "---\n",
        "\n"
      ]
    },
    {
      "cell_type": "markdown",
      "metadata": {
        "id": "fCDaHS2eE8ku"
      },
      "source": [
        "<h2><b>Model - 3</h2>"
      ]
    },
    {
      "cell_type": "markdown",
      "metadata": {
        "id": "XrzkMxtxK223"
      },
      "source": [
        "**SGDRegressor** - <br>SGD stands for Stochastic Gradient Descent. The SGDregressor applies regularized linear model with SGD learning to build an estimator. <br>The SGD regressor works well with large-scale datasets. "
      ]
    },
    {
      "cell_type": "markdown",
      "metadata": {
        "id": "k2mhfxhxKfVD"
      },
      "source": [
        "**Pipeline** <br>\n",
        "scikit-learn provides a Pipeline utility to help automate machine learning workflows. Pipelines work by allowing for a linear sequence of data transforms to be chained together culminating in a modeling process that can be evaluated. <br>\n",
        "It helps to create a convienent workflow which make sure of reproducibility of the work.\n"
      ]
    },
    {
      "cell_type": "code",
      "metadata": {
        "id": "4VcEJ2Ah2EgL",
        "colab": {
          "base_uri": "https://localhost:8080/"
        },
        "outputId": "e7f56931-940d-4ee3-d5c3-db735dce257e"
      },
      "source": [
        "#using SGDRegressor - model 3\n",
        "from sklearn.linear_model import SGDRegressor\n",
        "from sklearn.pipeline import make_pipeline\n",
        "model3 = make_pipeline(StandardScaler(),SGDRegressor())\n",
        "model3.fit(X_train, y_train)\n",
        "model3.score(X_train,y_train)"
      ],
      "execution_count": 23,
      "outputs": [
        {
          "output_type": "execute_result",
          "data": {
            "text/plain": [
              "0.7366701131694342"
            ]
          },
          "metadata": {
            "tags": []
          },
          "execution_count": 23
        }
      ]
    },
    {
      "cell_type": "code",
      "metadata": {
        "id": "4nLJ38bYveFr",
        "colab": {
          "base_uri": "https://localhost:8080/"
        },
        "outputId": "88816ca4-df8f-44e7-8fa9-5fac3d30a504"
      },
      "source": [
        "#predicting for model 3\n",
        "y_pred_3 = model3.predict(X_test)\n",
        "\n",
        "#evaluting the performance\n",
        "rsm3 = mean_squared_error(y_test, y_pred_3)\n",
        "rsm3"
      ],
      "execution_count": 24,
      "outputs": [
        {
          "output_type": "execute_result",
          "data": {
            "text/plain": [
              "0.21670712725577101"
            ]
          },
          "metadata": {
            "tags": []
          },
          "execution_count": 24
        }
      ]
    }
  ]
}
